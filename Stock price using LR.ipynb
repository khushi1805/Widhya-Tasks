{
 "cells": [
  {
   "cell_type": "code",
   "execution_count": 8,
   "metadata": {},
   "outputs": [],
   "source": [
    "import quandl\n",
    "import pandas as pd\n",
    "import numpy as np"
   ]
  },
  {
   "cell_type": "code",
   "execution_count": 9,
   "metadata": {},
   "outputs": [],
   "source": [
    "quandl.ApiConfig.api_key = \"fN2UtPyw-QP3zU8q7Bzp\"    "
   ]
  },
  {
   "cell_type": "code",
   "execution_count": 10,
   "metadata": {},
   "outputs": [
    {
     "data": {
      "text/html": [
       "<div>\n",
       "<style scoped>\n",
       "    .dataframe tbody tr th:only-of-type {\n",
       "        vertical-align: middle;\n",
       "    }\n",
       "\n",
       "    .dataframe tbody tr th {\n",
       "        vertical-align: top;\n",
       "    }\n",
       "\n",
       "    .dataframe thead th {\n",
       "        text-align: right;\n",
       "    }\n",
       "</style>\n",
       "<table border=\"1\" class=\"dataframe\">\n",
       "  <thead>\n",
       "    <tr style=\"text-align: right;\">\n",
       "      <th></th>\n",
       "      <th>Open</th>\n",
       "      <th>High</th>\n",
       "      <th>Low</th>\n",
       "      <th>Close</th>\n",
       "      <th>Volume</th>\n",
       "      <th>Dividend</th>\n",
       "      <th>Split</th>\n",
       "      <th>Adj_Open</th>\n",
       "      <th>Adj_High</th>\n",
       "      <th>Adj_Low</th>\n",
       "      <th>Adj_Close</th>\n",
       "      <th>Adj_Volume</th>\n",
       "    </tr>\n",
       "    <tr>\n",
       "      <th>Date</th>\n",
       "      <th></th>\n",
       "      <th></th>\n",
       "      <th></th>\n",
       "      <th></th>\n",
       "      <th></th>\n",
       "      <th></th>\n",
       "      <th></th>\n",
       "      <th></th>\n",
       "      <th></th>\n",
       "      <th></th>\n",
       "      <th></th>\n",
       "      <th></th>\n",
       "    </tr>\n",
       "  </thead>\n",
       "  <tbody>\n",
       "    <tr>\n",
       "      <th>2013-09-03</th>\n",
       "      <td>493.10</td>\n",
       "      <td>500.60</td>\n",
       "      <td>487.35</td>\n",
       "      <td>488.580</td>\n",
       "      <td>11854600.0</td>\n",
       "      <td>0.0</td>\n",
       "      <td>1.0</td>\n",
       "      <td>15.619650</td>\n",
       "      <td>15.857223</td>\n",
       "      <td>15.437510</td>\n",
       "      <td>15.476472</td>\n",
       "      <td>331928800.0</td>\n",
       "    </tr>\n",
       "    <tr>\n",
       "      <th>2013-09-04</th>\n",
       "      <td>499.56</td>\n",
       "      <td>502.24</td>\n",
       "      <td>496.28</td>\n",
       "      <td>498.691</td>\n",
       "      <td>12322600.0</td>\n",
       "      <td>0.0</td>\n",
       "      <td>1.0</td>\n",
       "      <td>15.824280</td>\n",
       "      <td>15.909173</td>\n",
       "      <td>15.720381</td>\n",
       "      <td>15.796753</td>\n",
       "      <td>345032800.0</td>\n",
       "    </tr>\n",
       "    <tr>\n",
       "      <th>2013-09-05</th>\n",
       "      <td>500.25</td>\n",
       "      <td>500.68</td>\n",
       "      <td>493.64</td>\n",
       "      <td>495.270</td>\n",
       "      <td>8441700.0</td>\n",
       "      <td>0.0</td>\n",
       "      <td>1.0</td>\n",
       "      <td>15.846136</td>\n",
       "      <td>15.859757</td>\n",
       "      <td>15.636755</td>\n",
       "      <td>15.688388</td>\n",
       "      <td>236367600.0</td>\n",
       "    </tr>\n",
       "    <tr>\n",
       "      <th>2013-09-06</th>\n",
       "      <td>498.44</td>\n",
       "      <td>499.38</td>\n",
       "      <td>489.95</td>\n",
       "      <td>498.220</td>\n",
       "      <td>12840200.0</td>\n",
       "      <td>0.0</td>\n",
       "      <td>1.0</td>\n",
       "      <td>15.788802</td>\n",
       "      <td>15.818578</td>\n",
       "      <td>15.519869</td>\n",
       "      <td>15.781833</td>\n",
       "      <td>359525600.0</td>\n",
       "    </tr>\n",
       "    <tr>\n",
       "      <th>2013-09-09</th>\n",
       "      <td>505.00</td>\n",
       "      <td>507.92</td>\n",
       "      <td>503.48</td>\n",
       "      <td>506.170</td>\n",
       "      <td>12167400.0</td>\n",
       "      <td>0.0</td>\n",
       "      <td>1.0</td>\n",
       "      <td>15.996600</td>\n",
       "      <td>16.089095</td>\n",
       "      <td>15.948451</td>\n",
       "      <td>16.033661</td>\n",
       "      <td>340687200.0</td>\n",
       "    </tr>\n",
       "  </tbody>\n",
       "</table>\n",
       "</div>"
      ],
      "text/plain": [
       "              Open    High     Low    Close      Volume  Dividend  Split  \\\n",
       "Date                                                                       \n",
       "2013-09-03  493.10  500.60  487.35  488.580  11854600.0       0.0    1.0   \n",
       "2013-09-04  499.56  502.24  496.28  498.691  12322600.0       0.0    1.0   \n",
       "2013-09-05  500.25  500.68  493.64  495.270   8441700.0       0.0    1.0   \n",
       "2013-09-06  498.44  499.38  489.95  498.220  12840200.0       0.0    1.0   \n",
       "2013-09-09  505.00  507.92  503.48  506.170  12167400.0       0.0    1.0   \n",
       "\n",
       "             Adj_Open   Adj_High    Adj_Low  Adj_Close   Adj_Volume  \n",
       "Date                                                                 \n",
       "2013-09-03  15.619650  15.857223  15.437510  15.476472  331928800.0  \n",
       "2013-09-04  15.824280  15.909173  15.720381  15.796753  345032800.0  \n",
       "2013-09-05  15.846136  15.859757  15.636755  15.688388  236367600.0  \n",
       "2013-09-06  15.788802  15.818578  15.519869  15.781833  359525600.0  \n",
       "2013-09-09  15.996600  16.089095  15.948451  16.033661  340687200.0  "
      ]
     },
     "execution_count": 10,
     "metadata": {},
     "output_type": "execute_result"
    }
   ],
   "source": [
    "df = quandl.get(\"EOD/AAPL\")\n",
    "df.head()"
   ]
  },
  {
   "cell_type": "code",
   "execution_count": 11,
   "metadata": {},
   "outputs": [
    {
     "data": {
      "text/plain": [
       "(1090, 12)"
      ]
     },
     "execution_count": 11,
     "metadata": {},
     "output_type": "execute_result"
    }
   ],
   "source": [
    "df.shape"
   ]
  },
  {
   "cell_type": "code",
   "execution_count": 13,
   "metadata": {},
   "outputs": [],
   "source": [
    "#Adding High Low Percentage Column\n",
    "df['HL_PCT'] = (df['Adj_High']-df['Adj_Low'])/df['Adj_Close']*100.0"
   ]
  },
  {
   "cell_type": "code",
   "execution_count": 14,
   "metadata": {},
   "outputs": [],
   "source": [
    "#Adding Percentage Column\n",
    "df['PCT_change'] = (df['Adj_Close']-df['Adj_Open'])/df['Adj_Open']*100.0"
   ]
  },
  {
   "cell_type": "code",
   "execution_count": 15,
   "metadata": {},
   "outputs": [
    {
     "data": {
      "text/html": [
       "<div>\n",
       "<style scoped>\n",
       "    .dataframe tbody tr th:only-of-type {\n",
       "        vertical-align: middle;\n",
       "    }\n",
       "\n",
       "    .dataframe tbody tr th {\n",
       "        vertical-align: top;\n",
       "    }\n",
       "\n",
       "    .dataframe thead th {\n",
       "        text-align: right;\n",
       "    }\n",
       "</style>\n",
       "<table border=\"1\" class=\"dataframe\">\n",
       "  <thead>\n",
       "    <tr style=\"text-align: right;\">\n",
       "      <th></th>\n",
       "      <th>Open</th>\n",
       "      <th>High</th>\n",
       "      <th>Low</th>\n",
       "      <th>Close</th>\n",
       "      <th>Volume</th>\n",
       "      <th>Dividend</th>\n",
       "      <th>Split</th>\n",
       "      <th>Adj_Open</th>\n",
       "      <th>Adj_High</th>\n",
       "      <th>Adj_Low</th>\n",
       "      <th>Adj_Close</th>\n",
       "      <th>Adj_Volume</th>\n",
       "      <th>HL_PCT</th>\n",
       "      <th>PCT_change</th>\n",
       "    </tr>\n",
       "    <tr>\n",
       "      <th>Date</th>\n",
       "      <th></th>\n",
       "      <th></th>\n",
       "      <th></th>\n",
       "      <th></th>\n",
       "      <th></th>\n",
       "      <th></th>\n",
       "      <th></th>\n",
       "      <th></th>\n",
       "      <th></th>\n",
       "      <th></th>\n",
       "      <th></th>\n",
       "      <th></th>\n",
       "      <th></th>\n",
       "      <th></th>\n",
       "    </tr>\n",
       "  </thead>\n",
       "  <tbody>\n",
       "    <tr>\n",
       "      <th>2013-09-03</th>\n",
       "      <td>493.10</td>\n",
       "      <td>500.60</td>\n",
       "      <td>487.35</td>\n",
       "      <td>488.580</td>\n",
       "      <td>11854600.0</td>\n",
       "      <td>0.0</td>\n",
       "      <td>1.0</td>\n",
       "      <td>15.619650</td>\n",
       "      <td>15.857223</td>\n",
       "      <td>15.437510</td>\n",
       "      <td>15.476472</td>\n",
       "      <td>331928800.0</td>\n",
       "      <td>2.711941</td>\n",
       "      <td>-0.916650</td>\n",
       "    </tr>\n",
       "    <tr>\n",
       "      <th>2013-09-04</th>\n",
       "      <td>499.56</td>\n",
       "      <td>502.24</td>\n",
       "      <td>496.28</td>\n",
       "      <td>498.691</td>\n",
       "      <td>12322600.0</td>\n",
       "      <td>0.0</td>\n",
       "      <td>1.0</td>\n",
       "      <td>15.824280</td>\n",
       "      <td>15.909173</td>\n",
       "      <td>15.720381</td>\n",
       "      <td>15.796753</td>\n",
       "      <td>345032800.0</td>\n",
       "      <td>1.195129</td>\n",
       "      <td>-0.173953</td>\n",
       "    </tr>\n",
       "    <tr>\n",
       "      <th>2013-09-05</th>\n",
       "      <td>500.25</td>\n",
       "      <td>500.68</td>\n",
       "      <td>493.64</td>\n",
       "      <td>495.270</td>\n",
       "      <td>8441700.0</td>\n",
       "      <td>0.0</td>\n",
       "      <td>1.0</td>\n",
       "      <td>15.846136</td>\n",
       "      <td>15.859757</td>\n",
       "      <td>15.636755</td>\n",
       "      <td>15.688388</td>\n",
       "      <td>236367600.0</td>\n",
       "      <td>1.421447</td>\n",
       "      <td>-0.995502</td>\n",
       "    </tr>\n",
       "    <tr>\n",
       "      <th>2013-09-06</th>\n",
       "      <td>498.44</td>\n",
       "      <td>499.38</td>\n",
       "      <td>489.95</td>\n",
       "      <td>498.220</td>\n",
       "      <td>12840200.0</td>\n",
       "      <td>0.0</td>\n",
       "      <td>1.0</td>\n",
       "      <td>15.788802</td>\n",
       "      <td>15.818578</td>\n",
       "      <td>15.519869</td>\n",
       "      <td>15.781833</td>\n",
       "      <td>359525600.0</td>\n",
       "      <td>1.892738</td>\n",
       "      <td>-0.044138</td>\n",
       "    </tr>\n",
       "    <tr>\n",
       "      <th>2013-09-09</th>\n",
       "      <td>505.00</td>\n",
       "      <td>507.92</td>\n",
       "      <td>503.48</td>\n",
       "      <td>506.170</td>\n",
       "      <td>12167400.0</td>\n",
       "      <td>0.0</td>\n",
       "      <td>1.0</td>\n",
       "      <td>15.996600</td>\n",
       "      <td>16.089095</td>\n",
       "      <td>15.948451</td>\n",
       "      <td>16.033661</td>\n",
       "      <td>340687200.0</td>\n",
       "      <td>0.877176</td>\n",
       "      <td>0.231683</td>\n",
       "    </tr>\n",
       "  </tbody>\n",
       "</table>\n",
       "</div>"
      ],
      "text/plain": [
       "              Open    High     Low    Close      Volume  Dividend  Split  \\\n",
       "Date                                                                       \n",
       "2013-09-03  493.10  500.60  487.35  488.580  11854600.0       0.0    1.0   \n",
       "2013-09-04  499.56  502.24  496.28  498.691  12322600.0       0.0    1.0   \n",
       "2013-09-05  500.25  500.68  493.64  495.270   8441700.0       0.0    1.0   \n",
       "2013-09-06  498.44  499.38  489.95  498.220  12840200.0       0.0    1.0   \n",
       "2013-09-09  505.00  507.92  503.48  506.170  12167400.0       0.0    1.0   \n",
       "\n",
       "             Adj_Open   Adj_High    Adj_Low  Adj_Close   Adj_Volume    HL_PCT  \\\n",
       "Date                                                                            \n",
       "2013-09-03  15.619650  15.857223  15.437510  15.476472  331928800.0  2.711941   \n",
       "2013-09-04  15.824280  15.909173  15.720381  15.796753  345032800.0  1.195129   \n",
       "2013-09-05  15.846136  15.859757  15.636755  15.688388  236367600.0  1.421447   \n",
       "2013-09-06  15.788802  15.818578  15.519869  15.781833  359525600.0  1.892738   \n",
       "2013-09-09  15.996600  16.089095  15.948451  16.033661  340687200.0  0.877176   \n",
       "\n",
       "            PCT_change  \n",
       "Date                    \n",
       "2013-09-03   -0.916650  \n",
       "2013-09-04   -0.173953  \n",
       "2013-09-05   -0.995502  \n",
       "2013-09-06   -0.044138  \n",
       "2013-09-09    0.231683  "
      ]
     },
     "execution_count": 15,
     "metadata": {},
     "output_type": "execute_result"
    }
   ],
   "source": [
    "df.head()"
   ]
  },
  {
   "cell_type": "code",
   "execution_count": 16,
   "metadata": {},
   "outputs": [
    {
     "data": {
      "text/plain": [
       "Open          False\n",
       "High          False\n",
       "Low           False\n",
       "Close         False\n",
       "Volume        False\n",
       "Dividend      False\n",
       "Split         False\n",
       "Adj_Open      False\n",
       "Adj_High      False\n",
       "Adj_Low       False\n",
       "Adj_Close     False\n",
       "Adj_Volume    False\n",
       "HL_PCT        False\n",
       "PCT_change    False\n",
       "dtype: bool"
      ]
     },
     "execution_count": 16,
     "metadata": {},
     "output_type": "execute_result"
    }
   ],
   "source": [
    "df.isna().any()"
   ]
  },
  {
   "cell_type": "code",
   "execution_count": 19,
   "metadata": {},
   "outputs": [
    {
     "data": {
      "text/html": [
       "<div>\n",
       "<style scoped>\n",
       "    .dataframe tbody tr th:only-of-type {\n",
       "        vertical-align: middle;\n",
       "    }\n",
       "\n",
       "    .dataframe tbody tr th {\n",
       "        vertical-align: top;\n",
       "    }\n",
       "\n",
       "    .dataframe thead th {\n",
       "        text-align: right;\n",
       "    }\n",
       "</style>\n",
       "<table border=\"1\" class=\"dataframe\">\n",
       "  <thead>\n",
       "    <tr style=\"text-align: right;\">\n",
       "      <th></th>\n",
       "      <th>Adj_Close</th>\n",
       "      <th>Adj_Volume</th>\n",
       "      <th>HL_PCT</th>\n",
       "      <th>PCT_change</th>\n",
       "    </tr>\n",
       "    <tr>\n",
       "      <th>Date</th>\n",
       "      <th></th>\n",
       "      <th></th>\n",
       "      <th></th>\n",
       "      <th></th>\n",
       "    </tr>\n",
       "  </thead>\n",
       "  <tbody>\n",
       "    <tr>\n",
       "      <th>2013-09-03</th>\n",
       "      <td>15.476472</td>\n",
       "      <td>331928800.0</td>\n",
       "      <td>2.711941</td>\n",
       "      <td>-0.916650</td>\n",
       "    </tr>\n",
       "    <tr>\n",
       "      <th>2013-09-04</th>\n",
       "      <td>15.796753</td>\n",
       "      <td>345032800.0</td>\n",
       "      <td>1.195129</td>\n",
       "      <td>-0.173953</td>\n",
       "    </tr>\n",
       "    <tr>\n",
       "      <th>2013-09-05</th>\n",
       "      <td>15.688388</td>\n",
       "      <td>236367600.0</td>\n",
       "      <td>1.421447</td>\n",
       "      <td>-0.995502</td>\n",
       "    </tr>\n",
       "    <tr>\n",
       "      <th>2013-09-06</th>\n",
       "      <td>15.781833</td>\n",
       "      <td>359525600.0</td>\n",
       "      <td>1.892738</td>\n",
       "      <td>-0.044138</td>\n",
       "    </tr>\n",
       "    <tr>\n",
       "      <th>2013-09-09</th>\n",
       "      <td>16.033661</td>\n",
       "      <td>340687200.0</td>\n",
       "      <td>0.877176</td>\n",
       "      <td>0.231683</td>\n",
       "    </tr>\n",
       "  </tbody>\n",
       "</table>\n",
       "</div>"
      ],
      "text/plain": [
       "            Adj_Close   Adj_Volume    HL_PCT  PCT_change\n",
       "Date                                                    \n",
       "2013-09-03  15.476472  331928800.0  2.711941   -0.916650\n",
       "2013-09-04  15.796753  345032800.0  1.195129   -0.173953\n",
       "2013-09-05  15.688388  236367600.0  1.421447   -0.995502\n",
       "2013-09-06  15.781833  359525600.0  1.892738   -0.044138\n",
       "2013-09-09  16.033661  340687200.0  0.877176    0.231683"
      ]
     },
     "execution_count": 19,
     "metadata": {},
     "output_type": "execute_result"
    }
   ],
   "source": [
    "#New df with Important features\n",
    "df1 = df[['Adj_Close','Adj_Volume','HL_PCT','PCT_change']]\n",
    "df1.head()"
   ]
  },
  {
   "cell_type": "code",
   "execution_count": 22,
   "metadata": {},
   "outputs": [
    {
     "name": "stderr",
     "output_type": "stream",
     "text": [
      "/snap/jupyter/6/lib/python3.7/site-packages/ipykernel_launcher.py:2: SettingWithCopyWarning: \n",
      "A value is trying to be set on a copy of a slice from a DataFrame.\n",
      "Try using .loc[row_indexer,col_indexer] = value instead\n",
      "\n",
      "See the caveats in the documentation: https://pandas.pydata.org/pandas-docs/stable/user_guide/indexing.html#returning-a-view-versus-a-copy\n",
      "  \n"
     ]
    }
   ],
   "source": [
    "#for 10 days out so that we can generate prediction for every day for the next 10 days\n",
    "df1['Prediction'] = df1[['Adj_Close']].shift(-10)"
   ]
  },
  {
   "cell_type": "code",
   "execution_count": 24,
   "metadata": {},
   "outputs": [
    {
     "data": {
      "text/plain": [
       "Adj_Close     False\n",
       "Adj_Volume    False\n",
       "HL_PCT        False\n",
       "PCT_change    False\n",
       "Prediction     True\n",
       "dtype: bool"
      ]
     },
     "execution_count": 24,
     "metadata": {},
     "output_type": "execute_result"
    }
   ],
   "source": [
    "df1.isna().any()"
   ]
  },
  {
   "cell_type": "code",
   "execution_count": 26,
   "metadata": {},
   "outputs": [
    {
     "data": {
      "text/html": [
       "<div>\n",
       "<style scoped>\n",
       "    .dataframe tbody tr th:only-of-type {\n",
       "        vertical-align: middle;\n",
       "    }\n",
       "\n",
       "    .dataframe tbody tr th {\n",
       "        vertical-align: top;\n",
       "    }\n",
       "\n",
       "    .dataframe thead th {\n",
       "        text-align: right;\n",
       "    }\n",
       "</style>\n",
       "<table border=\"1\" class=\"dataframe\">\n",
       "  <thead>\n",
       "    <tr style=\"text-align: right;\">\n",
       "      <th></th>\n",
       "      <th>Adj_Close</th>\n",
       "      <th>Adj_Volume</th>\n",
       "      <th>HL_PCT</th>\n",
       "      <th>PCT_change</th>\n",
       "      <th>Prediction</th>\n",
       "    </tr>\n",
       "    <tr>\n",
       "      <th>Date</th>\n",
       "      <th></th>\n",
       "      <th></th>\n",
       "      <th></th>\n",
       "      <th></th>\n",
       "      <th></th>\n",
       "    </tr>\n",
       "  </thead>\n",
       "  <tbody>\n",
       "    <tr>\n",
       "      <th>2013-09-03</th>\n",
       "      <td>15.476472</td>\n",
       "      <td>331928800.0</td>\n",
       "      <td>2.711941</td>\n",
       "      <td>-0.916650</td>\n",
       "      <td>14.422914</td>\n",
       "    </tr>\n",
       "    <tr>\n",
       "      <th>2013-09-04</th>\n",
       "      <td>15.796753</td>\n",
       "      <td>345032800.0</td>\n",
       "      <td>1.195129</td>\n",
       "      <td>-0.173953</td>\n",
       "      <td>14.719406</td>\n",
       "    </tr>\n",
       "    <tr>\n",
       "      <th>2013-09-05</th>\n",
       "      <td>15.688388</td>\n",
       "      <td>236367600.0</td>\n",
       "      <td>1.421447</td>\n",
       "      <td>-0.995502</td>\n",
       "      <td>14.960780</td>\n",
       "    </tr>\n",
       "    <tr>\n",
       "      <th>2013-09-06</th>\n",
       "      <td>15.781833</td>\n",
       "      <td>359525600.0</td>\n",
       "      <td>1.892738</td>\n",
       "      <td>-0.044138</td>\n",
       "      <td>14.805882</td>\n",
       "    </tr>\n",
       "    <tr>\n",
       "      <th>2013-09-09</th>\n",
       "      <td>16.033661</td>\n",
       "      <td>340687200.0</td>\n",
       "      <td>0.877176</td>\n",
       "      <td>0.231683</td>\n",
       "      <td>15.541726</td>\n",
       "    </tr>\n",
       "  </tbody>\n",
       "</table>\n",
       "</div>"
      ],
      "text/plain": [
       "            Adj_Close   Adj_Volume    HL_PCT  PCT_change  Prediction\n",
       "Date                                                                \n",
       "2013-09-03  15.476472  331928800.0  2.711941   -0.916650   14.422914\n",
       "2013-09-04  15.796753  345032800.0  1.195129   -0.173953   14.719406\n",
       "2013-09-05  15.688388  236367600.0  1.421447   -0.995502   14.960780\n",
       "2013-09-06  15.781833  359525600.0  1.892738   -0.044138   14.805882\n",
       "2013-09-09  16.033661  340687200.0  0.877176    0.231683   15.541726"
      ]
     },
     "execution_count": 26,
     "metadata": {},
     "output_type": "execute_result"
    }
   ],
   "source": [
    "df1.head()"
   ]
  },
  {
   "cell_type": "code",
   "execution_count": 25,
   "metadata": {},
   "outputs": [],
   "source": [
    "df1 = df1.dropna(axis=0)"
   ]
  },
  {
   "cell_type": "code",
   "execution_count": 28,
   "metadata": {},
   "outputs": [],
   "source": [
    "x = df1[['Adj_Close', 'Adj_Volume','HL_PCT','PCT_change']]\n",
    "y = df1['Prediction']"
   ]
  },
  {
   "cell_type": "code",
   "execution_count": 29,
   "metadata": {},
   "outputs": [
    {
     "name": "stderr",
     "output_type": "stream",
     "text": [
      "/root/snap/jupyter/common/lib/python3.7/site-packages/joblib/_multiprocessing_helpers.py:45: UserWarning: [Errno 13] Permission denied.  joblib will operate in serial mode\n",
      "  warnings.warn('%s.  joblib will operate in serial mode' % (e,))\n"
     ]
    },
    {
     "data": {
      "text/plain": [
       "array([[0.04353009, 0.28052142, 0.14342102, 0.37291086],\n",
       "       [0.054974  , 0.29337327, 0.04774412, 0.42136074],\n",
       "       [0.05110202, 0.18679901, 0.06201972, 0.36776692],\n",
       "       ...,\n",
       "       [0.97475774, 0.09335968, 0.12213426, 0.56649446],\n",
       "       [0.96641993, 0.03112262, 0.006487  , 0.41565614],\n",
       "       [0.97131947, 0.04842012, 0.02874619, 0.42401057]])"
      ]
     },
     "execution_count": 29,
     "metadata": {},
     "output_type": "execute_result"
    }
   ],
   "source": [
    "from sklearn.preprocessing import MinMaxScaler\n",
    "scaler = MinMaxScaler(feature_range=(0, 1)) \n",
    "scaled_data = scaler.fit_transform(x)\n",
    "scaled_data"
   ]
  },
  {
   "cell_type": "code",
   "execution_count": 32,
   "metadata": {},
   "outputs": [],
   "source": [
    "from sklearn.model_selection import train_test_split  \n",
    "x_train, x_test, y_train, y_test = train_test_split(x, y, \n",
    "                            test_size=0.3, random_state=1)"
   ]
  },
  {
   "cell_type": "code",
   "execution_count": 33,
   "metadata": {},
   "outputs": [
    {
     "name": "stdout",
     "output_type": "stream",
     "text": [
      "The train set is (756, 4) (756,)\n",
      "The test set is (324, 4) (324,)\n"
     ]
    }
   ],
   "source": [
    "print('The train set is', x_train.shape,y_train.shape)\n",
    "print('The test set is', x_test.shape,y_test.shape)"
   ]
  },
  {
   "cell_type": "code",
   "execution_count": 34,
   "metadata": {},
   "outputs": [
    {
     "name": "stdout",
     "output_type": "stream",
     "text": [
      "Data Trained Successfully\n"
     ]
    }
   ],
   "source": [
    "from sklearn.linear_model import LinearRegression  \n",
    "model = LinearRegression() # object creation  \n",
    "model.fit(x_train, y_train) \n",
    "print('Data Trained Successfully')"
   ]
  },
  {
   "cell_type": "code",
   "execution_count": 35,
   "metadata": {},
   "outputs": [
    {
     "data": {
      "text/html": [
       "<div>\n",
       "<style scoped>\n",
       "    .dataframe tbody tr th:only-of-type {\n",
       "        vertical-align: middle;\n",
       "    }\n",
       "\n",
       "    .dataframe tbody tr th {\n",
       "        vertical-align: top;\n",
       "    }\n",
       "\n",
       "    .dataframe thead th {\n",
       "        text-align: right;\n",
       "    }\n",
       "</style>\n",
       "<table border=\"1\" class=\"dataframe\">\n",
       "  <thead>\n",
       "    <tr style=\"text-align: right;\">\n",
       "      <th></th>\n",
       "      <th>Actual</th>\n",
       "      <th>Predicted</th>\n",
       "    </tr>\n",
       "    <tr>\n",
       "      <th>Date</th>\n",
       "      <th></th>\n",
       "      <th></th>\n",
       "    </tr>\n",
       "  </thead>\n",
       "  <tbody>\n",
       "    <tr>\n",
       "      <th>2015-05-22</th>\n",
       "      <td>29.337780</td>\n",
       "      <td>30.696336</td>\n",
       "    </tr>\n",
       "    <tr>\n",
       "      <th>2016-08-17</th>\n",
       "      <td>24.988656</td>\n",
       "      <td>26.026217</td>\n",
       "    </tr>\n",
       "    <tr>\n",
       "      <th>2015-07-21</th>\n",
       "      <td>26.316769</td>\n",
       "      <td>30.311610</td>\n",
       "    </tr>\n",
       "    <tr>\n",
       "      <th>2014-03-05</th>\n",
       "      <td>17.027688</td>\n",
       "      <td>17.304515</td>\n",
       "    </tr>\n",
       "    <tr>\n",
       "      <th>2016-02-18</th>\n",
       "      <td>23.632776</td>\n",
       "      <td>22.807209</td>\n",
       "    </tr>\n",
       "    <tr>\n",
       "      <th>...</th>\n",
       "      <td>...</td>\n",
       "      <td>...</td>\n",
       "    </tr>\n",
       "    <tr>\n",
       "      <th>2017-02-10</th>\n",
       "      <td>32.556643</td>\n",
       "      <td>31.738765</td>\n",
       "    </tr>\n",
       "    <tr>\n",
       "      <th>2015-10-02</th>\n",
       "      <td>25.605483</td>\n",
       "      <td>25.708615</td>\n",
       "    </tr>\n",
       "    <tr>\n",
       "      <th>2014-10-14</th>\n",
       "      <td>24.202049</td>\n",
       "      <td>22.693397</td>\n",
       "    </tr>\n",
       "    <tr>\n",
       "      <th>2014-08-06</th>\n",
       "      <td>22.803073</td>\n",
       "      <td>21.689306</td>\n",
       "    </tr>\n",
       "    <tr>\n",
       "      <th>2013-09-19</th>\n",
       "      <td>15.312705</td>\n",
       "      <td>15.119433</td>\n",
       "    </tr>\n",
       "  </tbody>\n",
       "</table>\n",
       "<p>324 rows × 2 columns</p>\n",
       "</div>"
      ],
      "text/plain": [
       "               Actual  Predicted\n",
       "Date                            \n",
       "2015-05-22  29.337780  30.696336\n",
       "2016-08-17  24.988656  26.026217\n",
       "2015-07-21  26.316769  30.311610\n",
       "2014-03-05  17.027688  17.304515\n",
       "2016-02-18  23.632776  22.807209\n",
       "...               ...        ...\n",
       "2017-02-10  32.556643  31.738765\n",
       "2015-10-02  25.605483  25.708615\n",
       "2014-10-14  24.202049  22.693397\n",
       "2014-08-06  22.803073  21.689306\n",
       "2013-09-19  15.312705  15.119433\n",
       "\n",
       "[324 rows x 2 columns]"
      ]
     },
     "execution_count": 35,
     "metadata": {},
     "output_type": "execute_result"
    }
   ],
   "source": [
    "predictions = model.predict(x_test)\n",
    "df1 = pd.DataFrame({'Actual': y_test, 'Predicted': predictions})  \n",
    "df1"
   ]
  },
  {
   "cell_type": "code",
   "execution_count": 36,
   "metadata": {},
   "outputs": [],
   "source": [
    "from sklearn import metrics"
   ]
  },
  {
   "cell_type": "code",
   "execution_count": 37,
   "metadata": {},
   "outputs": [
    {
     "name": "stdout",
     "output_type": "stream",
     "text": [
      "Accuracy of the model is 96.74 %\n",
      "Mean Squared Error of the model is 1.3838928697432438\n",
      "Mean Absolute Error of the model is 0.9124992541623347\n",
      "Root Mean Square Error of the model is 0.9552482683377839\n"
     ]
    }
   ],
   "source": [
    "# r2 metric is used to find the accuracy of the model\n",
    "accuracy = metrics.r2_score(y_test, predictions) \n",
    "print('Accuracy of the model is', round(accuracy*100,2),'%') \n",
    "\n",
    "# mse is used to find diff between actual and predicted values \n",
    "print('Mean Squared Error of the model is',metrics.mean_squared_error(y_test, predictions))\n",
    "print('Mean Absolute Error of the model is',metrics.mean_absolute_error(y_test, predictions))\n",
    "\n",
    "#rmse is used to find the distance between actual and predicted value\n",
    "print('Root Mean Square Error of the model is',np.sqrt(metrics.mean_absolute_error(y_test, predictions)))\n"
   ]
  }
 ],
 "metadata": {
  "kernelspec": {
   "display_name": "Python 3",
   "language": "python",
   "name": "python3"
  },
  "language_info": {
   "codemirror_mode": {
    "name": "ipython",
    "version": 3
   },
   "file_extension": ".py",
   "mimetype": "text/x-python",
   "name": "python",
   "nbconvert_exporter": "python",
   "pygments_lexer": "ipython3",
   "version": "3.7.3"
  }
 },
 "nbformat": 4,
 "nbformat_minor": 2
}
